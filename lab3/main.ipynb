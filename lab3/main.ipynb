{
 "cells": [
  {
   "cell_type": "code",
   "execution_count": 270,
   "metadata": {},
   "outputs": [],
   "source": [
    "import struct\n",
    "import numpy as np\n",
    "import intvalpy as ip"
   ]
  },
  {
   "cell_type": "code",
   "execution_count": 271,
   "metadata": {},
   "outputs": [],
   "source": [
    "def read_bin_file_with_numpy(file_path):\n",
    "  with open(file_path, 'rb') as f:\n",
    "    header_data = f.read(256)\n",
    "    side, mode, frame_count = struct.unpack('<BBH', header_data[:4])\n",
    "\n",
    "    frames = []\n",
    "    point_dtype = np.dtype('<8H')\n",
    "\n",
    "    for _ in range(frame_count):\n",
    "      frame_header_data = f.read(16)\n",
    "      stop_point, timestamp = struct.unpack('<HL', frame_header_data[:6])\n",
    "      frame_data = np.frombuffer(f.read(1024 * 16), dtype=point_dtype)\n",
    "      frames.append(frame_data)\n",
    "\n",
    "    return np.array(frames)"
   ]
  },
  {
   "cell_type": "code",
   "execution_count": 272,
   "metadata": {},
   "outputs": [],
   "source": [
    "def convert_to_voltage(data):\n",
    "  return data / 16384.0 - 0.5"
   ]
  },
  {
   "cell_type": "code",
   "execution_count": 273,
   "metadata": {},
   "outputs": [],
   "source": [
    "def are_intersected(x, y):\n",
    "  sup = y.a if x.a < y.a else x.a\n",
    "  inf = x.b if x.b < y.b else y.b\n",
    "  return sup - inf <= 1e-15"
   ]
  },
  {
   "cell_type": "code",
   "execution_count": 274,
   "metadata": {},
   "outputs": [],
   "source": [
    "def are_adjusted_to_each_other(x, y):\n",
    "  return x.b == y.a or y.b == x.a"
   ]
  },
  {
   "cell_type": "code",
   "execution_count": 275,
   "metadata": {},
   "outputs": [],
   "source": [
    "def merge_intervals(x, y):\n",
    "  return ip.Interval(min(x.a, y.a), max(x.b, y.b))"
   ]
  },
  {
   "cell_type": "code",
   "execution_count": 276,
   "metadata": {},
   "outputs": [],
   "source": [
    "def mode(x):\n",
    "  if len(x) == 0:\n",
    "    return []\n",
    "\n",
    "  edges = set()\n",
    "  for x_i in x:\n",
    "    edges.add(x_i.a)\n",
    "    edges.add(x_i.b)\n",
    "  edges = sorted(list(edges))\n",
    "\n",
    "  z = []\n",
    "  for index, a in enumerate(edges):\n",
    "    b = a if index == len(edges) - 1 else edges[index + 1]\n",
    "    z.append(ip.Interval(a, b))\n",
    "\n",
    "  mu = []\n",
    "  for z_i in z:\n",
    "    mu_i = 0\n",
    "    for x_i in x:\n",
    "      if z_i in x_i:\n",
    "        mu_i += 1\n",
    "    mu.append(mu_i)\n",
    "\n",
    "  max_mu = max(mu)\n",
    "  K = [index for index, element in enumerate(mu) if element == max_mu]\n",
    "\n",
    "  m = [z[k] for k in K]\n",
    "  merged_m = []\n",
    "\n",
    "  current_interval = m[0]\n",
    "\n",
    "  for next_interval in m[1:]:\n",
    "    if are_intersected(current_interval, next_interval) or are_adjusted_to_each_other(current_interval, next_interval):\n",
    "      current_interval = merge_intervals(current_interval, next_interval)\n",
    "    else:\n",
    "      merged_m.append(current_interval)\n",
    "      current_interval = next_interval\n",
    "\n",
    "  merged_m.append(current_interval)\n",
    "\n",
    "  return merged_m"
   ]
  }
 ],
 "metadata": {
  "kernelspec": {
   "display_name": "base",
   "language": "python",
   "name": "python3"
  },
  "language_info": {
   "codemirror_mode": {
    "name": "ipython",
    "version": 3
   },
   "file_extension": ".py",
   "mimetype": "text/x-python",
   "name": "python",
   "nbconvert_exporter": "python",
   "pygments_lexer": "ipython3",
   "version": "3.12.2"
  }
 },
 "nbformat": 4,
 "nbformat_minor": 2
}
