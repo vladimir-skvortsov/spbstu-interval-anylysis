{
 "cells": [
  {
   "cell_type": "code",
   "execution_count": 70,
   "metadata": {},
   "outputs": [],
   "source": [
    "import struct\n",
    "import numpy as np\n",
    "import intvalpy as ip\n",
    "from functools import cmp_to_key"
   ]
  },
  {
   "cell_type": "code",
   "execution_count": 71,
   "metadata": {},
   "outputs": [],
   "source": [
    "def read_bin_file_with_numpy(file_path):\n",
    "  with open(file_path, 'rb') as f:\n",
    "    header_data = f.read(256)\n",
    "    side, mode, frame_count = struct.unpack('<BBH', header_data[:4])\n",
    "\n",
    "    frames = []\n",
    "    point_dtype = np.dtype('<8H')\n",
    "\n",
    "    for _ in range(frame_count):\n",
    "      frame_header_data = f.read(16)\n",
    "      stop_point, timestamp = struct.unpack('<HL', frame_header_data[:6])\n",
    "      frame_data = np.frombuffer(f.read(1024 * 16), dtype=point_dtype)\n",
    "      frames.append(frame_data)\n",
    "\n",
    "    return np.array(frames)"
   ]
  },
  {
   "cell_type": "code",
   "execution_count": 72,
   "metadata": {},
   "outputs": [],
   "source": [
    "def convert_to_voltage(data):\n",
    "  return data / 16384.0 - 0.5"
   ]
  },
  {
   "cell_type": "code",
   "execution_count": 73,
   "metadata": {},
   "outputs": [],
   "source": [
    "def are_intersected(x, y):\n",
    "  sup = y.a if x.a < y.a else x.a\n",
    "  inf = x.b if x.b < y.b else y.b\n",
    "  return sup - inf <= 1e-15"
   ]
  },
  {
   "cell_type": "code",
   "execution_count": 74,
   "metadata": {},
   "outputs": [],
   "source": [
    "def are_adjusted_to_each_other(x, y):\n",
    "  return x.b == y.a or y.b == x.a"
   ]
  },
  {
   "cell_type": "code",
   "execution_count": 75,
   "metadata": {},
   "outputs": [],
   "source": [
    "def merge_intervals(x, y):\n",
    "  return ip.Interval(min(x.a, y.a), max(x.b, y.b))"
   ]
  },
  {
   "cell_type": "code",
   "execution_count": 76,
   "metadata": {},
   "outputs": [],
   "source": [
    "def mode(x):\n",
    "  if len(x) == 0:\n",
    "    return []\n",
    "\n",
    "  edges = set()\n",
    "  for x_i in x:\n",
    "    edges.add(x_i.a)\n",
    "    edges.add(x_i.b)\n",
    "  edges = sorted(list(edges))\n",
    "\n",
    "  z = []\n",
    "  for index, a in enumerate(edges):\n",
    "    b = a if index == len(edges) - 1 else edges[index + 1]\n",
    "    z.append(ip.Interval(a, b))\n",
    "\n",
    "  mu = []\n",
    "  for z_i in z:\n",
    "    mu_i = 0\n",
    "    for x_i in x:\n",
    "      if z_i in x_i:\n",
    "        mu_i += 1\n",
    "    mu.append(mu_i)\n",
    "\n",
    "  max_mu = max(mu)\n",
    "  K = [index for index, element in enumerate(mu) if element == max_mu]\n",
    "\n",
    "  m = [z[k] for k in K]\n",
    "  merged_m = []\n",
    "\n",
    "  current_interval = m[0]\n",
    "\n",
    "  for next_interval in m[1:]:\n",
    "    if are_intersected(current_interval, next_interval) or are_adjusted_to_each_other(current_interval, next_interval):\n",
    "      current_interval = merge_intervals(current_interval, next_interval)\n",
    "    else:\n",
    "      merged_m.append(current_interval)\n",
    "      current_interval = next_interval\n",
    "\n",
    "  merged_m.append(current_interval)\n",
    "\n",
    "  if len(merged_m) == 1:\n",
    "    return merged_m[0]\n",
    "\n",
    "  return merged_m"
   ]
  },
  {
   "cell_type": "code",
   "execution_count": 77,
   "metadata": {},
   "outputs": [],
   "source": [
    "def med_k(x):\n",
    "  starts = [float(interval.a) for interval in x]\n",
    "  ends = [float(interval.b) for interval in x]\n",
    "  return ip.Interval(np.median(starts), np.median(ends))"
   ]
  },
  {
   "cell_type": "code",
   "execution_count": 78,
   "metadata": {},
   "outputs": [],
   "source": [
    "def med_p(x):\n",
    "  x = sorted(x, key=cmp_to_key(lambda x, y: (x.a + x.b) / 2 - (y.a + y.b) / 2))\n",
    "  print(x)\n",
    "\n",
    "  mid = len(x) // 2\n",
    "\n",
    "  if len(x) % 2 == 0:\n",
    "    return (x[mid - 1] + x[mid]) / 2\n",
    "\n",
    "  return x[mid]"
   ]
  },
  {
   "cell_type": "code",
   "execution_count": null,
   "metadata": {},
   "outputs": [],
   "source": [
    "def jaccard_index(*args):\n",
    "  if len(args) == 1:\n",
    "    x = args[0]\n",
    "    left_edges = [interval.a for interval in x]\n",
    "    right_edges = [interval.b for interval in x]\n",
    "\n",
    "    return (min(right_edges) - max(left_edges)) / (max(right_edges) - min(left_edges))\n",
    "  elif len(args) == 2:\n",
    "    x = args[0]\n",
    "    y = args[1]\n",
    "\n",
    "    if isinstance(x, ip.ClassicalArithmetic) and isinstance(y, ip.ClassicalArithmetic):\n",
    "      return (min(x.b, y.b) - max(x.a, y.a)) / (max(x.b, y.b) - min(x.a, y.a))\n",
    "    else:\n",
    "      results = []\n",
    "\n",
    "      for x_i, y_i in zip(x, y):\n",
    "        result = (min(x_i.b, y_i.b) - max(x_i.a, y_i.a)) / (max(x_i.b, y_i.b) - min(x_i.a, y_i.a))\n",
    "        results.append(result)\n",
    "\n",
    "      return results\n",
    "  else:\n",
    "    raise ValueError(\"Wrong number of arguments\")"
   ]
  },
  {
   "cell_type": "code",
   "execution_count": 80,
   "metadata": {},
   "outputs": [],
   "source": [
    "def scalar_to_interval(x, rad):\n",
    "  return ip.Interval(x - rad, x + rad)\n",
    "scalar_to_interval_vec = np.vectorize(scalar_to_interval)"
   ]
  },
  {
   "cell_type": "code",
   "execution_count": 81,
   "metadata": {},
   "outputs": [],
   "source": [
    "x_data = read_bin_file_with_numpy('-0.205_lvl_side_a_fast_data.bin')\n",
    "y_data = read_bin_file_with_numpy('0.225_lvl_side_a_fast_data.bin')"
   ]
  },
  {
   "cell_type": "code",
   "execution_count": 82,
   "metadata": {},
   "outputs": [],
   "source": [
    "x_voltage = convert_to_voltage(x_data)\n",
    "y_voltage = convert_to_voltage(y_data)"
   ]
  },
  {
   "cell_type": "code",
   "execution_count": 83,
   "metadata": {},
   "outputs": [],
   "source": [
    "rad = 2 ** -14\n",
    "x_voltage_int = scalar_to_interval_vec(x_voltage, rad)\n",
    "y_voltage_int = scalar_to_interval_vec(y_voltage, rad)"
   ]
  },
  {
   "cell_type": "code",
   "execution_count": 84,
   "metadata": {},
   "outputs": [],
   "source": [
    "x_voltage_int_flatten = x_voltage_int.flatten()\n",
    "y_voltage_int_flatten = y_voltage_int.flatten()"
   ]
  },
  {
   "cell_type": "code",
   "execution_count": 94,
   "metadata": {},
   "outputs": [
    {
     "data": {
      "text/plain": [
       "True"
      ]
     },
     "execution_count": 94,
     "metadata": {},
     "output_type": "execute_result"
    }
   ],
   "source": [
    "y_voltage_int_flatten[0].__class__ == ip.ClassicalArithmetic"
   ]
  },
  {
   "cell_type": "code",
   "execution_count": 85,
   "metadata": {},
   "outputs": [
    {
     "ename": "TypeError",
     "evalue": "isinstance() arg 2 must be a type, a tuple of types, or a union",
     "output_type": "error",
     "traceback": [
      "\u001b[0;31m---------------------------------------------------------------------------\u001b[0m",
      "\u001b[0;31mTypeError\u001b[0m                                 Traceback (most recent call last)",
      "Cell \u001b[0;32mIn[85], line 5\u001b[0m\n\u001b[1;32m      2\u001b[0m a_opts \u001b[38;5;241m=\u001b[39m [\u001b[38;5;241m1\u001b[39m]\n\u001b[1;32m      4\u001b[0m \u001b[38;5;28;01mfor\u001b[39;00m a \u001b[38;5;129;01min\u001b[39;00m a_opts:\n\u001b[0;32m----> 5\u001b[0m   values \u001b[38;5;241m=\u001b[39m jaccard_index(x_voltage_int_flatten \u001b[38;5;241m+\u001b[39m a, y_voltage_int_flatten)\n",
      "Cell \u001b[0;32mIn[79], line 12\u001b[0m, in \u001b[0;36mjaccard_index\u001b[0;34m(*args)\u001b[0m\n\u001b[1;32m      9\u001b[0m x \u001b[38;5;241m=\u001b[39m args[\u001b[38;5;241m0\u001b[39m]\n\u001b[1;32m     10\u001b[0m y \u001b[38;5;241m=\u001b[39m args[\u001b[38;5;241m1\u001b[39m]\n\u001b[0;32m---> 12\u001b[0m \u001b[38;5;28;01mif\u001b[39;00m \u001b[38;5;28misinstance\u001b[39m(x, ip\u001b[38;5;241m.\u001b[39mInterval) \u001b[38;5;129;01mand\u001b[39;00m \u001b[38;5;28misinstance\u001b[39m(y, ip\u001b[38;5;241m.\u001b[39mInterval):\n\u001b[1;32m     13\u001b[0m   \u001b[38;5;28;01mreturn\u001b[39;00m (\u001b[38;5;28mmin\u001b[39m(x\u001b[38;5;241m.\u001b[39mb, y\u001b[38;5;241m.\u001b[39mb) \u001b[38;5;241m-\u001b[39m \u001b[38;5;28mmax\u001b[39m(x\u001b[38;5;241m.\u001b[39ma, y\u001b[38;5;241m.\u001b[39ma)) \u001b[38;5;241m/\u001b[39m (\u001b[38;5;28mmax\u001b[39m(x\u001b[38;5;241m.\u001b[39mb, y\u001b[38;5;241m.\u001b[39mb) \u001b[38;5;241m-\u001b[39m \u001b[38;5;28mmin\u001b[39m(x\u001b[38;5;241m.\u001b[39ma, y\u001b[38;5;241m.\u001b[39ma))\n\u001b[1;32m     14\u001b[0m \u001b[38;5;28;01melif\u001b[39;00m \u001b[38;5;28misinstance\u001b[39m(x, np\u001b[38;5;241m.\u001b[39marray) \u001b[38;5;129;01mand\u001b[39;00m \u001b[38;5;28misinstance\u001b[39m(y, np\u001b[38;5;241m.\u001b[39marray):\n",
      "\u001b[0;31mTypeError\u001b[0m: isinstance() arg 2 must be a type, a tuple of types, or a union"
     ]
    }
   ],
   "source": [
    "# a_opts = np.linspace(-1, 1, 10)\n",
    "a_opts = [1]\n",
    "\n",
    "for a in a_opts:\n",
    "  values = jaccard_index(x_voltage_int_flatten + a, y_voltage_int_flatten)"
   ]
  }
 ],
 "metadata": {
  "kernelspec": {
   "display_name": "base",
   "language": "python",
   "name": "python3"
  },
  "language_info": {
   "codemirror_mode": {
    "name": "ipython",
    "version": 3
   },
   "file_extension": ".py",
   "mimetype": "text/x-python",
   "name": "python",
   "nbconvert_exporter": "python",
   "pygments_lexer": "ipython3",
   "version": "3.12.2"
  }
 },
 "nbformat": 4,
 "nbformat_minor": 2
}
