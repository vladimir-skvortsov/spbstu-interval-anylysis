{
 "cells": [
  {
   "cell_type": "code",
   "execution_count": 139,
   "metadata": {},
   "outputs": [],
   "source": [
    "import struct\n",
    "import numpy as np\n",
    "import intvalpy as ip\n",
    "from functools import cmp_to_key\n",
    "import matplotlib.pyplot as plt"
   ]
  },
  {
   "cell_type": "code",
   "execution_count": 140,
   "metadata": {},
   "outputs": [],
   "source": [
    "def read_bin_file_with_numpy(file_path):\n",
    "  with open(file_path, 'rb') as f:\n",
    "    header_data = f.read(256)\n",
    "    side, mode, frame_count = struct.unpack('<BBH', header_data[:4])\n",
    "\n",
    "    frames = []\n",
    "    point_dtype = np.dtype('<8H')\n",
    "\n",
    "    for _ in range(frame_count):\n",
    "      frame_header_data = f.read(16)\n",
    "      stop_point, timestamp = struct.unpack('<HL', frame_header_data[:6])\n",
    "      frame_data = np.frombuffer(f.read(1024 * 16), dtype=point_dtype)\n",
    "      frames.append(frame_data)\n",
    "\n",
    "    return np.array(frames)"
   ]
  },
  {
   "cell_type": "code",
   "execution_count": 141,
   "metadata": {},
   "outputs": [],
   "source": [
    "def convert_to_voltage(data):\n",
    "  return data / 16384.0 - 0.5"
   ]
  },
  {
   "cell_type": "code",
   "execution_count": 142,
   "metadata": {},
   "outputs": [],
   "source": [
    "def are_intersected(x, y):\n",
    "  sup = y.a if x.a < y.a else x.a\n",
    "  inf = x.b if x.b < y.b else y.b\n",
    "  return sup - inf <= 1e-15"
   ]
  },
  {
   "cell_type": "code",
   "execution_count": 143,
   "metadata": {},
   "outputs": [],
   "source": [
    "def are_adjusted_to_each_other(x, y):\n",
    "  return x.b == y.a or y.b == x.a"
   ]
  },
  {
   "cell_type": "code",
   "execution_count": 144,
   "metadata": {},
   "outputs": [],
   "source": [
    "def merge_intervals(x, y):\n",
    "  return ip.Interval(min(x.a, y.a), max(x.b, y.b))"
   ]
  },
  {
   "cell_type": "code",
   "execution_count": 145,
   "metadata": {},
   "outputs": [],
   "source": [
    "def mode(x):\n",
    "  if len(x) == 0:\n",
    "    return []\n",
    "\n",
    "  edges = sorted({x_i.a for x_i in x}.union({x_i.b for x_i in x}))\n",
    "  z = [ip.Interval(edges[i], edges[i + 1]) for i in range(len(edges) - 1)]\n",
    "  mu = [sum(1 for x_i in x if z_i in x_i) for z_i in z]\n",
    "\n",
    "  max_mu = max(mu)\n",
    "  K = [index for index, element in enumerate(mu) if element == max_mu]\n",
    "\n",
    "  m = [z[k] for k in K]\n",
    "  merged_m = []\n",
    "\n",
    "  current_interval = m[0]\n",
    "\n",
    "  for next_interval in m[1:]:\n",
    "    if are_intersected(current_interval, next_interval) or are_adjusted_to_each_other(current_interval, next_interval):\n",
    "      current_interval = merge_intervals(current_interval, next_interval)\n",
    "    else:\n",
    "      merged_m.append(current_interval)\n",
    "      current_interval = next_interval\n",
    "\n",
    "  merged_m.append(current_interval)\n",
    "\n",
    "  return merged_m"
   ]
  },
  {
   "cell_type": "code",
   "execution_count": 146,
   "metadata": {},
   "outputs": [],
   "source": [
    "def med_k(x):\n",
    "  starts = [float(interval.a) for interval in x]\n",
    "  ends = [float(interval.b) for interval in x]\n",
    "  return ip.Interval(np.median(starts), np.median(ends))"
   ]
  },
  {
   "cell_type": "code",
   "execution_count": 147,
   "metadata": {},
   "outputs": [],
   "source": [
    "def med_p(x):\n",
    "  x = sorted(x, key=cmp_to_key(lambda x, y: (x.a + x.b) / 2 - (y.a + y.b) / 2))\n",
    "\n",
    "  mid_index = len(x) // 2\n",
    "\n",
    "  if len(x) % 2 == 0:\n",
    "    return (x[mid_index - 1] + x[mid_index]) / 2\n",
    "\n",
    "  return x[mid_index]"
   ]
  },
  {
   "cell_type": "code",
   "execution_count": 148,
   "metadata": {},
   "outputs": [],
   "source": [
    "def jaccard_index(*args):\n",
    "  if len(args) == 1:\n",
    "    x = args[0]\n",
    "    left_edges = [interval.a for interval in x]\n",
    "    right_edges = [interval.b for interval in x]\n",
    "\n",
    "    return (min(right_edges) - max(left_edges)) / (max(right_edges) - min(left_edges))\n",
    "  elif len(args) == 2:\n",
    "    x = args[0]\n",
    "    y = args[1]\n",
    "\n",
    "    if isinstance(x, ip.ClassicalArithmetic) and isinstance(y, ip.ClassicalArithmetic):\n",
    "      return (min(x.b, y.b) - max(x.a, y.a)) / (max(x.b, y.b) - min(x.a, y.a))\n",
    "    else:\n",
    "      results = []\n",
    "\n",
    "      for x_i, y_i in zip(x, y):\n",
    "        result = (min(x_i.b, y_i.b) - max(x_i.a, y_i.a)) / (max(x_i.b, y_i.b) - min(x_i.a, y_i.a))\n",
    "        results.append(result)\n",
    "\n",
    "      return np.array(results)\n",
    "  else:\n",
    "    raise ValueError(\"Wrong number of arguments\")"
   ]
  },
  {
   "cell_type": "code",
   "execution_count": 149,
   "metadata": {},
   "outputs": [],
   "source": [
    "def scalar_to_interval(x, rad):\n",
    "  return ip.Interval(x - rad, x + rad)\n",
    "scalar_to_interval_vec = np.vectorize(scalar_to_interval)"
   ]
  },
  {
   "cell_type": "code",
   "execution_count": 150,
   "metadata": {},
   "outputs": [],
   "source": [
    "x_data = read_bin_file_with_numpy('-0.205_lvl_side_a_fast_data.bin')\n",
    "y_data = read_bin_file_with_numpy('0.225_lvl_side_a_fast_data.bin')"
   ]
  },
  {
   "cell_type": "code",
   "execution_count": 151,
   "metadata": {},
   "outputs": [],
   "source": [
    "x_voltage = convert_to_voltage(x_data)\n",
    "y_voltage = convert_to_voltage(y_data)"
   ]
  },
  {
   "cell_type": "code",
   "execution_count": 152,
   "metadata": {},
   "outputs": [],
   "source": [
    "rad = 2 ** -14\n",
    "x_voltage_int = scalar_to_interval_vec(x_voltage, rad)\n",
    "y_voltage_int = scalar_to_interval_vec(y_voltage, rad)"
   ]
  },
  {
   "cell_type": "code",
   "execution_count": null,
   "metadata": {},
   "outputs": [],
   "source": [
    "x_voltage_int_flatten = x_voltage_int.flatten()\n",
    "y_voltage_int_flatten = y_voltage_int.flatten()"
   ]
  },
  {
   "cell_type": "code",
   "execution_count": 154,
   "metadata": {},
   "outputs": [],
   "source": [
    "def ternary_search(f, left, right, eps):\n",
    "  while right - left > eps:\n",
    "    m1 = left + (right - left) / 3\n",
    "    m2 = right - (right - left) / 3\n",
    "\n",
    "    if f(m1) < f(m2):\n",
    "      left = m1\n",
    "    else:\n",
    "      right = m2\n",
    "\n",
    "  return (left + right) / 2"
   ]
  },
  {
   "cell_type": "code",
   "execution_count": 161,
   "metadata": {},
   "outputs": [],
   "source": [
    "def estimate_a(a):\n",
    "  return np.mean(jaccard_index(x_voltage_int_flatten + a, y_voltage_int_flatten))\n",
    "\n",
    "def estimate_t(t):\n",
    "  return np.mean(jaccard_index(x_voltage_int_flatten * t, y_voltage_int_flatten))\n",
    "\n",
    "def estimate_a_mode(a):\n",
    "  return np.mean(jaccard_index(mode(x_voltage_int_flatten + a), mode(y_voltage_int_flatten)))\n",
    "\n",
    "def estimate_t_mode(t):\n",
    "  x = mode(x_voltage_int_flatten * t)\n",
    "  x_idx = len(x) // 2\n",
    "  x = x[x_idx]\n",
    "\n",
    "  y = mode(y_voltage_int_flatten)\n",
    "  y_idx = len(y) // 2\n",
    "  y = y[y_idx]\n",
    "\n",
    "  return np.mean(jaccard_index(x, y))\n",
    "\n",
    "def estimate_a_med_p(a):\n",
    "  return np.mean(jaccard_index(med_p(x_voltage_int_flatten + a), med_p(y_voltage_int_flatten)))\n",
    "\n",
    "def estimate_t_med_p(t):\n",
    "  return np.mean(jaccard_index(med_p(x_voltage_int_flatten * t), med_p(y_voltage_int_flatten)))\n",
    "\n",
    "def estimate_a_med_k(a):\n",
    "  return np.mean(jaccard_index(med_k(x_voltage_int_flatten + a), med_k(y_voltage_int_flatten)))\n",
    "\n",
    "def estimate_t_med_k(t):\n",
    "  return np.mean(jaccard_index(med_k(x_voltage_int_flatten * t), med_k(y_voltage_int_flatten)))"
   ]
  },
  {
   "cell_type": "code",
   "execution_count": 156,
   "metadata": {},
   "outputs": [
    {
     "data": {
      "text/plain": [
       "(0.34338492097664985, mpf('-0.917770342759032534480213818918055611982'))"
      ]
     },
     "execution_count": 156,
     "metadata": {},
     "output_type": "execute_result"
    }
   ],
   "source": [
    "a_1 = ternary_search(estimate_a, 0, 1, 1e-3)\n",
    "a_1, estimate_a(a_1),"
   ]
  },
  {
   "cell_type": "code",
   "execution_count": 157,
   "metadata": {},
   "outputs": [
    {
     "data": {
      "text/plain": [
       "(-1.0165810964155835, mpf('-0.92709518017262523175311217910570454259'))"
      ]
     },
     "execution_count": 157,
     "metadata": {},
     "output_type": "execute_result"
    }
   ],
   "source": [
    "t_1 = ternary_search(estimate_t, -4, 0, 1e-3)\n",
    "t_1, estimate_t(t_1),"
   ]
  },
  {
   "cell_type": "code",
   "execution_count": 158,
   "metadata": {},
   "outputs": [
    {
     "data": {
      "text/plain": [
       "(0.3402293520474772, mpf('-0.25437015167748647214790491632289712137'))"
      ]
     },
     "execution_count": 158,
     "metadata": {},
     "output_type": "execute_result"
    }
   ],
   "source": [
    "a_2 = ternary_search(estimate_a_mode, -4, 4, 1e-3)\n",
    "a_2, estimate_a_mode(a_2)"
   ]
  },
  {
   "cell_type": "code",
   "execution_count": 162,
   "metadata": {},
   "outputs": [
    {
     "data": {
      "text/plain": [
       "(-0.9987144660663902, mpf('-0.927500438665488873955497725697261588175'))"
      ]
     },
     "execution_count": 162,
     "metadata": {},
     "output_type": "execute_result"
    }
   ],
   "source": [
    "t_2 = ternary_search(estimate_t_mode, -4, 0, 1e-3)\n",
    "t_2, estimate_t_mode(t_2)"
   ]
  },
  {
   "cell_type": "code",
   "execution_count": null,
   "metadata": {},
   "outputs": [
    {
     "data": {
      "text/plain": [
       "(0.3441471781990435, mpf('-0.00183851691184963447636228532948816687736'))"
      ]
     },
     "execution_count": 86,
     "metadata": {},
     "output_type": "execute_result"
    }
   ],
   "source": [
    "a_3 = ternary_search(estimate_a_med_p, -4, 4, 1e-3)\n",
    "a_3, estimate_a_med_p(a_3)"
   ]
  },
  {
   "cell_type": "code",
   "execution_count": null,
   "metadata": {},
   "outputs": [
    {
     "data": {
      "text/plain": [
       "(-1.0060668961434276, mpf('0.630205043439708075665869544761902826018'))"
      ]
     },
     "execution_count": 94,
     "metadata": {},
     "output_type": "execute_result"
    }
   ],
   "source": [
    "t_3 = ternary_search(estimate_t_med_p, -4, 0, 1e-3)\n",
    "t_3, estimate_t_med_p(t_3)"
   ]
  },
  {
   "cell_type": "code",
   "execution_count": null,
   "metadata": {},
   "outputs": [],
   "source": [
    "a_4 = ternary_search(estimate_a_med_k, -4, 4, 1e-3)\n",
    "a_4, estimate_a_med_k(a_4)"
   ]
  },
  {
   "cell_type": "code",
   "execution_count": null,
   "metadata": {},
   "outputs": [
    {
     "data": {
      "text/plain": [
       "(-1.0060668961434276, mpf('0.630205043439562160040346559989727130528'))"
      ]
     },
     "execution_count": 93,
     "metadata": {},
     "output_type": "execute_result"
    }
   ],
   "source": [
    "t_4 = ternary_search(estimate_t_med_k, -4, 0, 1e-3)\n",
    "t_4, estimate_t_med_k(t_4)"
   ]
  }
 ],
 "metadata": {
  "kernelspec": {
   "display_name": "base",
   "language": "python",
   "name": "python3"
  },
  "language_info": {
   "codemirror_mode": {
    "name": "ipython",
    "version": 3
   },
   "file_extension": ".py",
   "mimetype": "text/x-python",
   "name": "python",
   "nbconvert_exporter": "python",
   "pygments_lexer": "ipython3",
   "version": "3.12.2"
  }
 },
 "nbformat": 4,
 "nbformat_minor": 2
}
