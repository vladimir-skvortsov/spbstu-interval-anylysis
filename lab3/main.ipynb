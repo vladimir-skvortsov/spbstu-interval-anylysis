{
 "cells": [
  {
   "cell_type": "code",
   "execution_count": 455,
   "metadata": {},
   "outputs": [],
   "source": [
    "import struct\n",
    "import numpy as np\n",
    "import intvalpy as ip\n",
    "from functools import cmp_to_key"
   ]
  },
  {
   "cell_type": "code",
   "execution_count": 456,
   "metadata": {},
   "outputs": [],
   "source": [
    "def read_bin_file_with_numpy(file_path):\n",
    "  with open(file_path, 'rb') as f:\n",
    "    header_data = f.read(256)\n",
    "    side, mode, frame_count = struct.unpack('<BBH', header_data[:4])\n",
    "\n",
    "    frames = []\n",
    "    point_dtype = np.dtype('<8H')\n",
    "\n",
    "    for _ in range(frame_count):\n",
    "      frame_header_data = f.read(16)\n",
    "      stop_point, timestamp = struct.unpack('<HL', frame_header_data[:6])\n",
    "      frame_data = np.frombuffer(f.read(1024 * 16), dtype=point_dtype)\n",
    "      frames.append(frame_data)\n",
    "\n",
    "    return np.array(frames)"
   ]
  },
  {
   "cell_type": "code",
   "execution_count": 457,
   "metadata": {},
   "outputs": [],
   "source": [
    "def convert_to_voltage(data):\n",
    "  return data / 16384.0 - 0.5"
   ]
  },
  {
   "cell_type": "code",
   "execution_count": 458,
   "metadata": {},
   "outputs": [],
   "source": [
    "def are_intersected(x, y):\n",
    "  sup = y.a if x.a < y.a else x.a\n",
    "  inf = x.b if x.b < y.b else y.b\n",
    "  return sup - inf <= 1e-15"
   ]
  },
  {
   "cell_type": "code",
   "execution_count": 459,
   "metadata": {},
   "outputs": [],
   "source": [
    "def are_adjusted_to_each_other(x, y):\n",
    "  return x.b == y.a or y.b == x.a"
   ]
  },
  {
   "cell_type": "code",
   "execution_count": 460,
   "metadata": {},
   "outputs": [],
   "source": [
    "def merge_intervals(x, y):\n",
    "  return ip.Interval(min(x.a, y.a), max(x.b, y.b))"
   ]
  },
  {
   "cell_type": "code",
   "execution_count": 461,
   "metadata": {},
   "outputs": [],
   "source": [
    "def mode(x):\n",
    "  if len(x) == 0:\n",
    "    return []\n",
    "\n",
    "  edges = set()\n",
    "  for x_i in x:\n",
    "    edges.add(x_i.a)\n",
    "    edges.add(x_i.b)\n",
    "  edges = sorted(list(edges))\n",
    "\n",
    "  z = []\n",
    "  for index, a in enumerate(edges):\n",
    "    b = a if index == len(edges) - 1 else edges[index + 1]\n",
    "    z.append(ip.Interval(a, b))\n",
    "\n",
    "  mu = []\n",
    "  for z_i in z:\n",
    "    mu_i = 0\n",
    "    for x_i in x:\n",
    "      if z_i in x_i:\n",
    "        mu_i += 1\n",
    "    mu.append(mu_i)\n",
    "\n",
    "  max_mu = max(mu)\n",
    "  K = [index for index, element in enumerate(mu) if element == max_mu]\n",
    "\n",
    "  m = [z[k] for k in K]\n",
    "  merged_m = []\n",
    "\n",
    "  current_interval = m[0]\n",
    "\n",
    "  for next_interval in m[1:]:\n",
    "    if are_intersected(current_interval, next_interval) or are_adjusted_to_each_other(current_interval, next_interval):\n",
    "      current_interval = merge_intervals(current_interval, next_interval)\n",
    "    else:\n",
    "      merged_m.append(current_interval)\n",
    "      current_interval = next_interval\n",
    "\n",
    "  merged_m.append(current_interval)\n",
    "\n",
    "  if len(merged_m) == 1:\n",
    "    return merged_m[0]\n",
    "\n",
    "  return merged_m"
   ]
  },
  {
   "cell_type": "code",
   "execution_count": 462,
   "metadata": {},
   "outputs": [],
   "source": [
    "def med_k(x):\n",
    "  starts = [float(interval.a) for interval in x]\n",
    "  ends = [float(interval.b) for interval in x]\n",
    "  return ip.Interval(np.median(starts), np.median(ends))"
   ]
  },
  {
   "cell_type": "code",
   "execution_count": 463,
   "metadata": {},
   "outputs": [],
   "source": [
    "def med_p(x):\n",
    "  x = sorted(x, key=cmp_to_key(lambda x, y: (x.a + x.b) / 2 - (y.a + y.b) / 2))\n",
    "  print(x)\n",
    "\n",
    "  mid = len(x) // 2\n",
    "\n",
    "  if len(x) % 2 == 0:\n",
    "    return (x[mid - 1] + x[mid]) / 2\n",
    "\n",
    "  return x[mid]"
   ]
  },
  {
   "cell_type": "code",
   "execution_count": 469,
   "metadata": {},
   "outputs": [],
   "source": [
    "def scalar_to_interval(x, rad):\n",
    "  return ip.Interval(x - rad, x + rad)\n",
    "scalar_to_interval_vec = np.vectorize(scalar_to_interval)"
   ]
  },
  {
   "cell_type": "code",
   "execution_count": 464,
   "metadata": {},
   "outputs": [],
   "source": [
    "x_data = read_bin_file_with_numpy('-0.205_Ivl_side_a_fast_data.bin')\n",
    "y_data = read_bin_file_with_numpy('0.225_ Ivl_side_a_fast_data.bin')"
   ]
  },
  {
   "cell_type": "code",
   "execution_count": 465,
   "metadata": {},
   "outputs": [],
   "source": [
    "x_voltage = convert_to_voltage(x_data)\n",
    "y_voltage = convert_to_voltage(y_data)"
   ]
  },
  {
   "cell_type": "code",
   "execution_count": 470,
   "metadata": {},
   "outputs": [
    {
     "data": {
      "text/plain": [
       "-0.18609619140625"
      ]
     },
     "execution_count": 470,
     "metadata": {},
     "output_type": "execute_result"
    }
   ],
   "source": [
    "x_voltage[0][0][0]"
   ]
  },
  {
   "cell_type": "code",
   "execution_count": null,
   "metadata": {},
   "outputs": [
    {
     "ename": "ValueError",
     "evalue": "could not convert string to float: \"'[-0.186157, -0.186035]'\"",
     "output_type": "error",
     "traceback": [
      "\u001b[0;31m---------------------------------------------------------------------------\u001b[0m",
      "\u001b[0;31mValueError\u001b[0m                                Traceback (most recent call last)",
      "Cell \u001b[0;32mIn[476], line 2\u001b[0m\n\u001b[1;32m      1\u001b[0m rad \u001b[38;5;241m=\u001b[39m \u001b[38;5;241m2\u001b[39m \u001b[38;5;241m*\u001b[39m\u001b[38;5;241m*\u001b[39m \u001b[38;5;241m-\u001b[39m\u001b[38;5;241m14\u001b[39m\n\u001b[0;32m----> 2\u001b[0m x_voltage_int \u001b[38;5;241m=\u001b[39m ip\u001b[38;5;241m.\u001b[39mInterval(scalar_to_interval_vec(x_voltage, rad))\n\u001b[1;32m      3\u001b[0m y_voltage_int \u001b[38;5;241m=\u001b[39m ip\u001b[38;5;241m.\u001b[39mInterval(scalar_to_interval_vec(y_voltage, rad))\n",
      "File \u001b[0;32m/opt/homebrew/Caskroom/miniconda/base/lib/python3.12/site-packages/intvalpy/kernel/real_intervals.py:949\u001b[0m, in \u001b[0;36mInterval\u001b[0;34m(sortQ, midRadQ, *args)\u001b[0m\n\u001b[1;32m    946\u001b[0m         \u001b[38;5;28;01mreturn\u001b[39;00m SingleInterval(args[\u001b[38;5;241m0\u001b[39m], args[\u001b[38;5;241m0\u001b[39m], sortQ\u001b[38;5;241m=\u001b[39msortQ, midRadQ\u001b[38;5;241m=\u001b[39mmidRadQ)\n\u001b[1;32m    947\u001b[0m     data \u001b[38;5;241m=\u001b[39m np\u001b[38;5;241m.\u001b[39marray(args[\u001b[38;5;241m0\u001b[39m])\n\u001b[0;32m--> 949\u001b[0m \u001b[38;5;28;01mreturn\u001b[39;00m ArrayInterval(np\u001b[38;5;241m.\u001b[39mvectorize(\u001b[38;5;28;01mlambda\u001b[39;00m l, r: SingleInterval(l, r, sortQ\u001b[38;5;241m=\u001b[39msortQ, midRadQ\u001b[38;5;241m=\u001b[39mmidRadQ))(data[\u001b[38;5;241m.\u001b[39m\u001b[38;5;241m.\u001b[39m\u001b[38;5;241m.\u001b[39m, \u001b[38;5;241m0\u001b[39m], data[\u001b[38;5;241m.\u001b[39m\u001b[38;5;241m.\u001b[39m\u001b[38;5;241m.\u001b[39m, \u001b[38;5;241m1\u001b[39m]))\n",
      "File \u001b[0;32m/opt/homebrew/Caskroom/miniconda/base/lib/python3.12/site-packages/numpy/lib/function_base.py:2372\u001b[0m, in \u001b[0;36mvectorize.__call__\u001b[0;34m(self, *args, **kwargs)\u001b[0m\n\u001b[1;32m   2369\u001b[0m     \u001b[38;5;28mself\u001b[39m\u001b[38;5;241m.\u001b[39m_init_stage_2(\u001b[38;5;241m*\u001b[39margs, \u001b[38;5;241m*\u001b[39m\u001b[38;5;241m*\u001b[39mkwargs)\n\u001b[1;32m   2370\u001b[0m     \u001b[38;5;28;01mreturn\u001b[39;00m \u001b[38;5;28mself\u001b[39m\n\u001b[0;32m-> 2372\u001b[0m \u001b[38;5;28;01mreturn\u001b[39;00m \u001b[38;5;28mself\u001b[39m\u001b[38;5;241m.\u001b[39m_call_as_normal(\u001b[38;5;241m*\u001b[39margs, \u001b[38;5;241m*\u001b[39m\u001b[38;5;241m*\u001b[39mkwargs)\n",
      "File \u001b[0;32m/opt/homebrew/Caskroom/miniconda/base/lib/python3.12/site-packages/numpy/lib/function_base.py:2365\u001b[0m, in \u001b[0;36mvectorize._call_as_normal\u001b[0;34m(self, *args, **kwargs)\u001b[0m\n\u001b[1;32m   2362\u001b[0m     vargs \u001b[38;5;241m=\u001b[39m [args[_i] \u001b[38;5;28;01mfor\u001b[39;00m _i \u001b[38;5;129;01min\u001b[39;00m inds]\n\u001b[1;32m   2363\u001b[0m     vargs\u001b[38;5;241m.\u001b[39mextend([kwargs[_n] \u001b[38;5;28;01mfor\u001b[39;00m _n \u001b[38;5;129;01min\u001b[39;00m names])\n\u001b[0;32m-> 2365\u001b[0m \u001b[38;5;28;01mreturn\u001b[39;00m \u001b[38;5;28mself\u001b[39m\u001b[38;5;241m.\u001b[39m_vectorize_call(func\u001b[38;5;241m=\u001b[39mfunc, args\u001b[38;5;241m=\u001b[39mvargs)\n",
      "File \u001b[0;32m/opt/homebrew/Caskroom/miniconda/base/lib/python3.12/site-packages/numpy/lib/function_base.py:2450\u001b[0m, in \u001b[0;36mvectorize._vectorize_call\u001b[0;34m(self, func, args)\u001b[0m\n\u001b[1;32m   2448\u001b[0m     res \u001b[38;5;241m=\u001b[39m func()\n\u001b[1;32m   2449\u001b[0m \u001b[38;5;28;01melse\u001b[39;00m:\n\u001b[0;32m-> 2450\u001b[0m     ufunc, otypes \u001b[38;5;241m=\u001b[39m \u001b[38;5;28mself\u001b[39m\u001b[38;5;241m.\u001b[39m_get_ufunc_and_otypes(func\u001b[38;5;241m=\u001b[39mfunc, args\u001b[38;5;241m=\u001b[39margs)\n\u001b[1;32m   2452\u001b[0m     \u001b[38;5;66;03m# Convert args to object arrays first\u001b[39;00m\n\u001b[1;32m   2453\u001b[0m     inputs \u001b[38;5;241m=\u001b[39m [asanyarray(a, dtype\u001b[38;5;241m=\u001b[39m\u001b[38;5;28mobject\u001b[39m) \u001b[38;5;28;01mfor\u001b[39;00m a \u001b[38;5;129;01min\u001b[39;00m args]\n",
      "File \u001b[0;32m/opt/homebrew/Caskroom/miniconda/base/lib/python3.12/site-packages/numpy/lib/function_base.py:2410\u001b[0m, in \u001b[0;36mvectorize._get_ufunc_and_otypes\u001b[0;34m(self, func, args)\u001b[0m\n\u001b[1;32m   2406\u001b[0m     \u001b[38;5;28;01mraise\u001b[39;00m \u001b[38;5;167;01mValueError\u001b[39;00m(\u001b[38;5;124m'\u001b[39m\u001b[38;5;124mcannot call `vectorize` on size 0 inputs \u001b[39m\u001b[38;5;124m'\u001b[39m\n\u001b[1;32m   2407\u001b[0m                      \u001b[38;5;124m'\u001b[39m\u001b[38;5;124munless `otypes` is set\u001b[39m\u001b[38;5;124m'\u001b[39m)\n\u001b[1;32m   2409\u001b[0m inputs \u001b[38;5;241m=\u001b[39m [arg\u001b[38;5;241m.\u001b[39mflat[\u001b[38;5;241m0\u001b[39m] \u001b[38;5;28;01mfor\u001b[39;00m arg \u001b[38;5;129;01min\u001b[39;00m args]\n\u001b[0;32m-> 2410\u001b[0m outputs \u001b[38;5;241m=\u001b[39m func(\u001b[38;5;241m*\u001b[39minputs)\n\u001b[1;32m   2412\u001b[0m \u001b[38;5;66;03m# Performance note: profiling indicates that -- for simple\u001b[39;00m\n\u001b[1;32m   2413\u001b[0m \u001b[38;5;66;03m# functions at least -- this wrapping can almost double the\u001b[39;00m\n\u001b[1;32m   2414\u001b[0m \u001b[38;5;66;03m# execution time.\u001b[39;00m\n\u001b[1;32m   2415\u001b[0m \u001b[38;5;66;03m# Hence we make it optional.\u001b[39;00m\n\u001b[1;32m   2416\u001b[0m \u001b[38;5;28;01mif\u001b[39;00m \u001b[38;5;28mself\u001b[39m\u001b[38;5;241m.\u001b[39mcache:\n",
      "File \u001b[0;32m/opt/homebrew/Caskroom/miniconda/base/lib/python3.12/site-packages/intvalpy/kernel/real_intervals.py:949\u001b[0m, in \u001b[0;36mInterval.<locals>.<lambda>\u001b[0;34m(l, r)\u001b[0m\n\u001b[1;32m    946\u001b[0m         \u001b[38;5;28;01mreturn\u001b[39;00m SingleInterval(args[\u001b[38;5;241m0\u001b[39m], args[\u001b[38;5;241m0\u001b[39m], sortQ\u001b[38;5;241m=\u001b[39msortQ, midRadQ\u001b[38;5;241m=\u001b[39mmidRadQ)\n\u001b[1;32m    947\u001b[0m     data \u001b[38;5;241m=\u001b[39m np\u001b[38;5;241m.\u001b[39marray(args[\u001b[38;5;241m0\u001b[39m])\n\u001b[0;32m--> 949\u001b[0m \u001b[38;5;28;01mreturn\u001b[39;00m ArrayInterval(np\u001b[38;5;241m.\u001b[39mvectorize(\u001b[38;5;28;01mlambda\u001b[39;00m l, r: SingleInterval(l, r, sortQ\u001b[38;5;241m=\u001b[39msortQ, midRadQ\u001b[38;5;241m=\u001b[39mmidRadQ))(data[\u001b[38;5;241m.\u001b[39m\u001b[38;5;241m.\u001b[39m\u001b[38;5;241m.\u001b[39m, \u001b[38;5;241m0\u001b[39m], data[\u001b[38;5;241m.\u001b[39m\u001b[38;5;241m.\u001b[39m\u001b[38;5;241m.\u001b[39m, \u001b[38;5;241m1\u001b[39m]))\n",
      "File \u001b[0;32m/opt/homebrew/Caskroom/miniconda/base/lib/python3.12/site-packages/intvalpy/kernel/real_intervals.py:904\u001b[0m, in \u001b[0;36mSingleInterval\u001b[0;34m(left, right, sortQ, midRadQ)\u001b[0m\n\u001b[1;32m    902\u001b[0m \u001b[38;5;28;01mdef\u001b[39;00m \u001b[38;5;21mSingleInterval\u001b[39m(left, right, sortQ\u001b[38;5;241m=\u001b[39m\u001b[38;5;28;01mTrue\u001b[39;00m, midRadQ\u001b[38;5;241m=\u001b[39m\u001b[38;5;28;01mFalse\u001b[39;00m):\n\u001b[1;32m    903\u001b[0m     \u001b[38;5;28;01mif\u001b[39;00m precision\u001b[38;5;241m.\u001b[39mextendedPrecisionQ:\n\u001b[0;32m--> 904\u001b[0m         left, right \u001b[38;5;241m=\u001b[39m mpf(\u001b[38;5;28mstr\u001b[39m(left)), mpf(\u001b[38;5;28mstr\u001b[39m(right))\n\u001b[1;32m    905\u001b[0m     \u001b[38;5;28;01melse\u001b[39;00m:\n\u001b[1;32m    906\u001b[0m         left, right \u001b[38;5;241m=\u001b[39m np\u001b[38;5;241m.\u001b[39mfloat64(left), np\u001b[38;5;241m.\u001b[39mfloat64(right)\n",
      "File \u001b[0;32m/opt/homebrew/Caskroom/miniconda/base/lib/python3.12/site-packages/mpmath/ctx_mp_python.py:79\u001b[0m, in \u001b[0;36m_mpf.__new__\u001b[0;34m(cls, val, **kwargs)\u001b[0m\n\u001b[1;32m     77\u001b[0m \u001b[38;5;28;01melse\u001b[39;00m:\n\u001b[1;32m     78\u001b[0m     v \u001b[38;5;241m=\u001b[39m new(\u001b[38;5;28mcls\u001b[39m)\n\u001b[0;32m---> 79\u001b[0m     v\u001b[38;5;241m.\u001b[39m_mpf_ \u001b[38;5;241m=\u001b[39m mpf_pos(\u001b[38;5;28mcls\u001b[39m\u001b[38;5;241m.\u001b[39mmpf_convert_arg(val, prec, rounding), prec, rounding)\n\u001b[1;32m     80\u001b[0m     \u001b[38;5;28;01mreturn\u001b[39;00m v\n",
      "File \u001b[0;32m/opt/homebrew/Caskroom/miniconda/base/lib/python3.12/site-packages/mpmath/ctx_mp_python.py:86\u001b[0m, in \u001b[0;36m_mpf.mpf_convert_arg\u001b[0;34m(cls, x, prec, rounding)\u001b[0m\n\u001b[1;32m     84\u001b[0m \u001b[38;5;28;01mif\u001b[39;00m \u001b[38;5;28misinstance\u001b[39m(x, int_types): \u001b[38;5;28;01mreturn\u001b[39;00m from_int(x)\n\u001b[1;32m     85\u001b[0m \u001b[38;5;28;01mif\u001b[39;00m \u001b[38;5;28misinstance\u001b[39m(x, \u001b[38;5;28mfloat\u001b[39m): \u001b[38;5;28;01mreturn\u001b[39;00m from_float(x)\n\u001b[0;32m---> 86\u001b[0m \u001b[38;5;28;01mif\u001b[39;00m \u001b[38;5;28misinstance\u001b[39m(x, basestring): \u001b[38;5;28;01mreturn\u001b[39;00m from_str(x, prec, rounding)\n\u001b[1;32m     87\u001b[0m \u001b[38;5;28;01mif\u001b[39;00m \u001b[38;5;28misinstance\u001b[39m(x, \u001b[38;5;28mcls\u001b[39m\u001b[38;5;241m.\u001b[39mcontext\u001b[38;5;241m.\u001b[39mconstant): \u001b[38;5;28;01mreturn\u001b[39;00m x\u001b[38;5;241m.\u001b[39mfunc(prec, rounding)\n\u001b[1;32m     88\u001b[0m \u001b[38;5;28;01mif\u001b[39;00m \u001b[38;5;28mhasattr\u001b[39m(x, \u001b[38;5;124m'\u001b[39m\u001b[38;5;124m_mpf_\u001b[39m\u001b[38;5;124m'\u001b[39m): \u001b[38;5;28;01mreturn\u001b[39;00m x\u001b[38;5;241m.\u001b[39m_mpf_\n",
      "File \u001b[0;32m/opt/homebrew/Caskroom/miniconda/base/lib/python3.12/site-packages/mpmath/libmp/libmpf.py:1331\u001b[0m, in \u001b[0;36mfrom_str\u001b[0;34m(x, prec, rnd)\u001b[0m\n\u001b[1;32m   1328\u001b[0m     p, q \u001b[38;5;241m=\u001b[39m p\u001b[38;5;241m.\u001b[39mrstrip(\u001b[38;5;124m'\u001b[39m\u001b[38;5;124ml\u001b[39m\u001b[38;5;124m'\u001b[39m), q\u001b[38;5;241m.\u001b[39mrstrip(\u001b[38;5;124m'\u001b[39m\u001b[38;5;124ml\u001b[39m\u001b[38;5;124m'\u001b[39m)\n\u001b[1;32m   1329\u001b[0m     \u001b[38;5;28;01mreturn\u001b[39;00m from_rational(\u001b[38;5;28mint\u001b[39m(p), \u001b[38;5;28mint\u001b[39m(q), prec, rnd)\n\u001b[0;32m-> 1331\u001b[0m man, exp \u001b[38;5;241m=\u001b[39m str_to_man_exp(x, base\u001b[38;5;241m=\u001b[39m\u001b[38;5;241m10\u001b[39m)\n\u001b[1;32m   1333\u001b[0m \u001b[38;5;66;03m# XXX: appropriate cutoffs & track direction\u001b[39;00m\n\u001b[1;32m   1334\u001b[0m \u001b[38;5;66;03m# note no factors of 5\u001b[39;00m\n\u001b[1;32m   1335\u001b[0m \u001b[38;5;28;01mif\u001b[39;00m \u001b[38;5;28mabs\u001b[39m(exp) \u001b[38;5;241m>\u001b[39m \u001b[38;5;241m400\u001b[39m:\n",
      "File \u001b[0;32m/opt/homebrew/Caskroom/miniconda/base/lib/python3.12/site-packages/mpmath/libmp/libmpf.py:1294\u001b[0m, in \u001b[0;36mstr_to_man_exp\u001b[0;34m(x, base)\u001b[0m\n\u001b[1;32m   1292\u001b[0m x \u001b[38;5;241m=\u001b[39m x\u001b[38;5;241m.\u001b[39mlower()\u001b[38;5;241m.\u001b[39mrstrip(\u001b[38;5;124m'\u001b[39m\u001b[38;5;124ml\u001b[39m\u001b[38;5;124m'\u001b[39m)\n\u001b[1;32m   1293\u001b[0m \u001b[38;5;66;03m# Verify that the input is a valid float literal\u001b[39;00m\n\u001b[0;32m-> 1294\u001b[0m \u001b[38;5;28mfloat\u001b[39m(x)\n\u001b[1;32m   1295\u001b[0m \u001b[38;5;66;03m# Split into mantissa, exponent\u001b[39;00m\n\u001b[1;32m   1296\u001b[0m parts \u001b[38;5;241m=\u001b[39m x\u001b[38;5;241m.\u001b[39msplit(\u001b[38;5;124m'\u001b[39m\u001b[38;5;124me\u001b[39m\u001b[38;5;124m'\u001b[39m)\n",
      "\u001b[0;31mValueError\u001b[0m: could not convert string to float: \"'[-0.186157, -0.186035]'\""
     ]
    }
   ],
   "source": [
    "rad = 2 ** -14\n",
    "x_voltage_int = scalar_to_interval_vec(x_voltage, rad)\n",
    "y_voltage_int = scalar_to_interval_vec(y_voltage, rad)"
   ]
  },
  {
   "cell_type": "code",
   "execution_count": 474,
   "metadata": {},
   "outputs": [
    {
     "data": {
      "text/plain": [
       "6.103515625e-05"
      ]
     },
     "execution_count": 474,
     "metadata": {},
     "output_type": "execute_result"
    }
   ],
   "source": [
    "rad"
   ]
  },
  {
   "cell_type": "code",
   "execution_count": null,
   "metadata": {},
   "outputs": [],
   "source": []
  }
 ],
 "metadata": {
  "kernelspec": {
   "display_name": "base",
   "language": "python",
   "name": "python3"
  },
  "language_info": {
   "codemirror_mode": {
    "name": "ipython",
    "version": 3
   },
   "file_extension": ".py",
   "mimetype": "text/x-python",
   "name": "python",
   "nbconvert_exporter": "python",
   "pygments_lexer": "ipython3",
   "version": "3.12.2"
  }
 },
 "nbformat": 4,
 "nbformat_minor": 2
}
